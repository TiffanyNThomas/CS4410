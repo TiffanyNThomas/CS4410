{
  "nbformat": 4,
  "nbformat_minor": 0,
  "metadata": {
    "colab": {
      "name": "Homework2.ipynb",
      "provenance": [],
      "collapsed_sections": [],
      "authorship_tag": "ABX9TyNe6PaQBh2hxks0lhnSj1mK",
      "include_colab_link": true
    },
    "kernelspec": {
      "name": "python3",
      "display_name": "Python 3"
    },
    "language_info": {
      "name": "python"
    }
  },
  "cells": [
    {
      "cell_type": "markdown",
      "metadata": {
        "id": "view-in-github",
        "colab_type": "text"
      },
      "source": [
        "<a href=\"https://colab.research.google.com/github/TiffanyNThomas/CS4410/blob/main/Homework2.ipynb\" target=\"_parent\"><img src=\"https://colab.research.google.com/assets/colab-badge.svg\" alt=\"Open In Colab\"/></a>"
      ]
    },
    {
      "cell_type": "markdown",
      "source": [
        "# Linear Regression with the Diabetes Dataset"
      ],
      "metadata": {
        "id": "05GObWZBgw74"
      }
    },
    {
      "cell_type": "markdown",
      "source": [
        "Loading the Dataset"
      ],
      "metadata": {
        "id": "eGLZ5NMViHte"
      }
    },
    {
      "cell_type": "code",
      "execution_count": 2,
      "metadata": {
        "id": "72KGHXdEgi9D"
      },
      "outputs": [],
      "source": [
        "%matplotlib inline\n",
        "from sklearn.datasets import load_diabetes"
      ]
    },
    {
      "cell_type": "code",
      "source": [
        "diabetes = load_diabetes()"
      ],
      "metadata": {
        "id": "6jSR4wzFhsDk"
      },
      "execution_count": 3,
      "outputs": []
    },
    {
      "cell_type": "markdown",
      "source": [
        "Displaying the Dataset's Description"
      ],
      "metadata": {
        "id": "mAjREbUjiMH0"
      }
    },
    {
      "cell_type": "code",
      "source": [
        "print(diabetes.DESCR)"
      ],
      "metadata": {
        "colab": {
          "base_uri": "https://localhost:8080/"
        },
        "id": "_tCOP5oPh4Vz",
        "outputId": "40c9cae2-ed80-408c-89dc-ba7bf30163cc"
      },
      "execution_count": 4,
      "outputs": [
        {
          "output_type": "stream",
          "name": "stdout",
          "text": [
            ".. _diabetes_dataset:\n",
            "\n",
            "Diabetes dataset\n",
            "----------------\n",
            "\n",
            "Ten baseline variables, age, sex, body mass index, average blood\n",
            "pressure, and six blood serum measurements were obtained for each of n =\n",
            "442 diabetes patients, as well as the response of interest, a\n",
            "quantitative measure of disease progression one year after baseline.\n",
            "\n",
            "**Data Set Characteristics:**\n",
            "\n",
            "  :Number of Instances: 442\n",
            "\n",
            "  :Number of Attributes: First 10 columns are numeric predictive values\n",
            "\n",
            "  :Target: Column 11 is a quantitative measure of disease progression one year after baseline\n",
            "\n",
            "  :Attribute Information:\n",
            "      - age     age in years\n",
            "      - sex\n",
            "      - bmi     body mass index\n",
            "      - bp      average blood pressure\n",
            "      - s1      tc, total serum cholesterol\n",
            "      - s2      ldl, low-density lipoproteins\n",
            "      - s3      hdl, high-density lipoproteins\n",
            "      - s4      tch, total cholesterol / HDL\n",
            "      - s5      ltg, possibly log of serum triglycerides level\n",
            "      - s6      glu, blood sugar level\n",
            "\n",
            "Note: Each of these 10 feature variables have been mean centered and scaled by the standard deviation times `n_samples` (i.e. the sum of squares of each column totals 1).\n",
            "\n",
            "Source URL:\n",
            "https://www4.stat.ncsu.edu/~boos/var.select/diabetes.html\n",
            "\n",
            "For more information see:\n",
            "Bradley Efron, Trevor Hastie, Iain Johnstone and Robert Tibshirani (2004) \"Least Angle Regression,\" Annals of Statistics (with discussion), 407-499.\n",
            "(https://web.stanford.edu/~hastie/Papers/LARS/LeastAngle_2002.pdf)\n"
          ]
        }
      ]
    },
    {
      "cell_type": "code",
      "source": [
        "diabetes.data.shape"
      ],
      "metadata": {
        "colab": {
          "base_uri": "https://localhost:8080/"
        },
        "id": "i-9ouUahiQ9S",
        "outputId": "c022e48f-9f76-42c4-970a-8ff3c19264d1"
      },
      "execution_count": 5,
      "outputs": [
        {
          "output_type": "execute_result",
          "data": {
            "text/plain": [
              "(442, 10)"
            ]
          },
          "metadata": {},
          "execution_count": 5
        }
      ]
    },
    {
      "cell_type": "code",
      "source": [
        "diabetes.target.shape"
      ],
      "metadata": {
        "colab": {
          "base_uri": "https://localhost:8080/"
        },
        "id": "8KacecrCiVMz",
        "outputId": "321032bf-ee14-445a-c5e8-e276ebc5bcdf"
      },
      "execution_count": 6,
      "outputs": [
        {
          "output_type": "execute_result",
          "data": {
            "text/plain": [
              "(442,)"
            ]
          },
          "metadata": {},
          "execution_count": 6
        }
      ]
    },
    {
      "cell_type": "code",
      "source": [
        "diabetes.feature_names"
      ],
      "metadata": {
        "colab": {
          "base_uri": "https://localhost:8080/"
        },
        "id": "IlP56WeZiYC6",
        "outputId": "2426ddae-8a7f-4739-f2b6-b2eb33129337"
      },
      "execution_count": 7,
      "outputs": [
        {
          "output_type": "execute_result",
          "data": {
            "text/plain": [
              "['age', 'sex', 'bmi', 'bp', 's1', 's2', 's3', 's4', 's5', 's6']"
            ]
          },
          "metadata": {},
          "execution_count": 7
        }
      ]
    },
    {
      "cell_type": "markdown",
      "source": [
        "Exploring the Data with a Pandas"
      ],
      "metadata": {
        "id": "zo-q91JDid9O"
      }
    },
    {
      "cell_type": "code",
      "source": [
        "import pandas as pd"
      ],
      "metadata": {
        "id": "NCFSY0Itibhy"
      },
      "execution_count": 8,
      "outputs": []
    },
    {
      "cell_type": "code",
      "source": [
        "pd.set_option('precision', 4)"
      ],
      "metadata": {
        "id": "PSJwprOPinU6"
      },
      "execution_count": 10,
      "outputs": []
    },
    {
      "cell_type": "markdown",
      "source": [
        "Adds a DataFrame column for disease preogression one year after baseline"
      ],
      "metadata": {
        "id": "ZeqYKBRflu2r"
      }
    },
    {
      "cell_type": "code",
      "source": [
        "diabetes_df = pd.DataFrame (diabetes.data, columns = diabetes.feature_names)"
      ],
      "metadata": {
        "id": "amLQHAhcisxq"
      },
      "execution_count": 11,
      "outputs": []
    },
    {
      "cell_type": "code",
      "source": [
        "diabetes_df['YearProgressionFromBase'] = pd.Series(diabetes.target)"
      ],
      "metadata": {
        "id": "Ztgb1X3blO27"
      },
      "execution_count": 14,
      "outputs": []
    },
    {
      "cell_type": "code",
      "source": [
        "diabetes_df.head()"
      ],
      "metadata": {
        "colab": {
          "base_uri": "https://localhost:8080/",
          "height": 206
        },
        "id": "3BO5Rg4oi3J6",
        "outputId": "2a5eece4-437a-4e43-d178-ef616b9e9596"
      },
      "execution_count": 15,
      "outputs": [
        {
          "output_type": "execute_result",
          "data": {
            "text/plain": [
              "      age     sex     bmi      bp      s1      s2      s3      s4      s5  \\\n",
              "0  0.0381  0.0507  0.0617  0.0219 -0.0442 -0.0348 -0.0434 -0.0026  0.0199   \n",
              "1 -0.0019 -0.0446 -0.0515 -0.0263 -0.0084 -0.0192  0.0744 -0.0395 -0.0683   \n",
              "2  0.0853  0.0507  0.0445 -0.0057 -0.0456 -0.0342 -0.0324 -0.0026  0.0029   \n",
              "3 -0.0891 -0.0446 -0.0116 -0.0367  0.0122  0.0250 -0.0360  0.0343  0.0227   \n",
              "4  0.0054 -0.0446 -0.0364  0.0219  0.0039  0.0156  0.0081 -0.0026 -0.0320   \n",
              "\n",
              "       s6  YearProgressionFromBase  \n",
              "0 -0.0176                    151.0  \n",
              "1 -0.0922                     75.0  \n",
              "2 -0.0259                    141.0  \n",
              "3 -0.0094                    206.0  \n",
              "4 -0.0466                    135.0  "
            ],
            "text/html": [
              "\n",
              "  <div id=\"df-1c55e91c-dc18-48a7-a98a-a4f4af03ffb6\">\n",
              "    <div class=\"colab-df-container\">\n",
              "      <div>\n",
              "<style scoped>\n",
              "    .dataframe tbody tr th:only-of-type {\n",
              "        vertical-align: middle;\n",
              "    }\n",
              "\n",
              "    .dataframe tbody tr th {\n",
              "        vertical-align: top;\n",
              "    }\n",
              "\n",
              "    .dataframe thead th {\n",
              "        text-align: right;\n",
              "    }\n",
              "</style>\n",
              "<table border=\"1\" class=\"dataframe\">\n",
              "  <thead>\n",
              "    <tr style=\"text-align: right;\">\n",
              "      <th></th>\n",
              "      <th>age</th>\n",
              "      <th>sex</th>\n",
              "      <th>bmi</th>\n",
              "      <th>bp</th>\n",
              "      <th>s1</th>\n",
              "      <th>s2</th>\n",
              "      <th>s3</th>\n",
              "      <th>s4</th>\n",
              "      <th>s5</th>\n",
              "      <th>s6</th>\n",
              "      <th>YearProgressionFromBase</th>\n",
              "    </tr>\n",
              "  </thead>\n",
              "  <tbody>\n",
              "    <tr>\n",
              "      <th>0</th>\n",
              "      <td>0.0381</td>\n",
              "      <td>0.0507</td>\n",
              "      <td>0.0617</td>\n",
              "      <td>0.0219</td>\n",
              "      <td>-0.0442</td>\n",
              "      <td>-0.0348</td>\n",
              "      <td>-0.0434</td>\n",
              "      <td>-0.0026</td>\n",
              "      <td>0.0199</td>\n",
              "      <td>-0.0176</td>\n",
              "      <td>151.0</td>\n",
              "    </tr>\n",
              "    <tr>\n",
              "      <th>1</th>\n",
              "      <td>-0.0019</td>\n",
              "      <td>-0.0446</td>\n",
              "      <td>-0.0515</td>\n",
              "      <td>-0.0263</td>\n",
              "      <td>-0.0084</td>\n",
              "      <td>-0.0192</td>\n",
              "      <td>0.0744</td>\n",
              "      <td>-0.0395</td>\n",
              "      <td>-0.0683</td>\n",
              "      <td>-0.0922</td>\n",
              "      <td>75.0</td>\n",
              "    </tr>\n",
              "    <tr>\n",
              "      <th>2</th>\n",
              "      <td>0.0853</td>\n",
              "      <td>0.0507</td>\n",
              "      <td>0.0445</td>\n",
              "      <td>-0.0057</td>\n",
              "      <td>-0.0456</td>\n",
              "      <td>-0.0342</td>\n",
              "      <td>-0.0324</td>\n",
              "      <td>-0.0026</td>\n",
              "      <td>0.0029</td>\n",
              "      <td>-0.0259</td>\n",
              "      <td>141.0</td>\n",
              "    </tr>\n",
              "    <tr>\n",
              "      <th>3</th>\n",
              "      <td>-0.0891</td>\n",
              "      <td>-0.0446</td>\n",
              "      <td>-0.0116</td>\n",
              "      <td>-0.0367</td>\n",
              "      <td>0.0122</td>\n",
              "      <td>0.0250</td>\n",
              "      <td>-0.0360</td>\n",
              "      <td>0.0343</td>\n",
              "      <td>0.0227</td>\n",
              "      <td>-0.0094</td>\n",
              "      <td>206.0</td>\n",
              "    </tr>\n",
              "    <tr>\n",
              "      <th>4</th>\n",
              "      <td>0.0054</td>\n",
              "      <td>-0.0446</td>\n",
              "      <td>-0.0364</td>\n",
              "      <td>0.0219</td>\n",
              "      <td>0.0039</td>\n",
              "      <td>0.0156</td>\n",
              "      <td>0.0081</td>\n",
              "      <td>-0.0026</td>\n",
              "      <td>-0.0320</td>\n",
              "      <td>-0.0466</td>\n",
              "      <td>135.0</td>\n",
              "    </tr>\n",
              "  </tbody>\n",
              "</table>\n",
              "</div>\n",
              "      <button class=\"colab-df-convert\" onclick=\"convertToInteractive('df-1c55e91c-dc18-48a7-a98a-a4f4af03ffb6')\"\n",
              "              title=\"Convert this dataframe to an interactive table.\"\n",
              "              style=\"display:none;\">\n",
              "        \n",
              "  <svg xmlns=\"http://www.w3.org/2000/svg\" height=\"24px\"viewBox=\"0 0 24 24\"\n",
              "       width=\"24px\">\n",
              "    <path d=\"M0 0h24v24H0V0z\" fill=\"none\"/>\n",
              "    <path d=\"M18.56 5.44l.94 2.06.94-2.06 2.06-.94-2.06-.94-.94-2.06-.94 2.06-2.06.94zm-11 1L8.5 8.5l.94-2.06 2.06-.94-2.06-.94L8.5 2.5l-.94 2.06-2.06.94zm10 10l.94 2.06.94-2.06 2.06-.94-2.06-.94-.94-2.06-.94 2.06-2.06.94z\"/><path d=\"M17.41 7.96l-1.37-1.37c-.4-.4-.92-.59-1.43-.59-.52 0-1.04.2-1.43.59L10.3 9.45l-7.72 7.72c-.78.78-.78 2.05 0 2.83L4 21.41c.39.39.9.59 1.41.59.51 0 1.02-.2 1.41-.59l7.78-7.78 2.81-2.81c.8-.78.8-2.07 0-2.86zM5.41 20L4 18.59l7.72-7.72 1.47 1.35L5.41 20z\"/>\n",
              "  </svg>\n",
              "      </button>\n",
              "      \n",
              "  <style>\n",
              "    .colab-df-container {\n",
              "      display:flex;\n",
              "      flex-wrap:wrap;\n",
              "      gap: 12px;\n",
              "    }\n",
              "\n",
              "    .colab-df-convert {\n",
              "      background-color: #E8F0FE;\n",
              "      border: none;\n",
              "      border-radius: 50%;\n",
              "      cursor: pointer;\n",
              "      display: none;\n",
              "      fill: #1967D2;\n",
              "      height: 32px;\n",
              "      padding: 0 0 0 0;\n",
              "      width: 32px;\n",
              "    }\n",
              "\n",
              "    .colab-df-convert:hover {\n",
              "      background-color: #E2EBFA;\n",
              "      box-shadow: 0px 1px 2px rgba(60, 64, 67, 0.3), 0px 1px 3px 1px rgba(60, 64, 67, 0.15);\n",
              "      fill: #174EA6;\n",
              "    }\n",
              "\n",
              "    [theme=dark] .colab-df-convert {\n",
              "      background-color: #3B4455;\n",
              "      fill: #D2E3FC;\n",
              "    }\n",
              "\n",
              "    [theme=dark] .colab-df-convert:hover {\n",
              "      background-color: #434B5C;\n",
              "      box-shadow: 0px 1px 3px 1px rgba(0, 0, 0, 0.15);\n",
              "      filter: drop-shadow(0px 1px 2px rgba(0, 0, 0, 0.3));\n",
              "      fill: #FFFFFF;\n",
              "    }\n",
              "  </style>\n",
              "\n",
              "      <script>\n",
              "        const buttonEl =\n",
              "          document.querySelector('#df-1c55e91c-dc18-48a7-a98a-a4f4af03ffb6 button.colab-df-convert');\n",
              "        buttonEl.style.display =\n",
              "          google.colab.kernel.accessAllowed ? 'block' : 'none';\n",
              "\n",
              "        async function convertToInteractive(key) {\n",
              "          const element = document.querySelector('#df-1c55e91c-dc18-48a7-a98a-a4f4af03ffb6');\n",
              "          const dataTable =\n",
              "            await google.colab.kernel.invokeFunction('convertToInteractive',\n",
              "                                                     [key], {});\n",
              "          if (!dataTable) return;\n",
              "\n",
              "          const docLinkHtml = 'Like what you see? Visit the ' +\n",
              "            '<a target=\"_blank\" href=https://colab.research.google.com/notebooks/data_table.ipynb>data table notebook</a>'\n",
              "            + ' to learn more about interactive tables.';\n",
              "          element.innerHTML = '';\n",
              "          dataTable['output_type'] = 'display_data';\n",
              "          await google.colab.output.renderOutput(dataTable, element);\n",
              "          const docLink = document.createElement('div');\n",
              "          docLink.innerHTML = docLinkHtml;\n",
              "          element.appendChild(docLink);\n",
              "        }\n",
              "      </script>\n",
              "    </div>\n",
              "  </div>\n",
              "  "
            ]
          },
          "metadata": {},
          "execution_count": 15
        }
      ]
    },
    {
      "cell_type": "code",
      "source": [
        "diabetes_df.describe()"
      ],
      "metadata": {
        "colab": {
          "base_uri": "https://localhost:8080/",
          "height": 434
        },
        "id": "0BbVJXzZk7ii",
        "outputId": "aab9033c-f3aa-454d-8dd6-6a15364af7fd"
      },
      "execution_count": 16,
      "outputs": [
        {
          "output_type": "execute_result",
          "data": {
            "text/plain": [
              "              age         sex         bmi          bp          s1          s2  \\\n",
              "count  4.4200e+02  4.4200e+02  4.4200e+02  4.4200e+02  4.4200e+02  4.4200e+02   \n",
              "mean  -3.6343e-16  1.3083e-16 -8.0453e-16  1.2817e-16 -8.8353e-17  1.3270e-16   \n",
              "std    4.7619e-02  4.7619e-02  4.7619e-02  4.7619e-02  4.7619e-02  4.7619e-02   \n",
              "min   -1.0723e-01 -4.4642e-02 -9.0275e-02 -1.1240e-01 -1.2678e-01 -1.1561e-01   \n",
              "25%   -3.7299e-02 -4.4642e-02 -3.4229e-02 -3.6656e-02 -3.4248e-02 -3.0358e-02   \n",
              "50%    5.3831e-03 -4.4642e-02 -7.2838e-03 -5.6706e-03 -4.3209e-03 -3.8191e-03   \n",
              "75%    3.8076e-02  5.0680e-02  3.1248e-02  3.5644e-02  2.8358e-02  2.9844e-02   \n",
              "max    1.1073e-01  5.0680e-02  1.7056e-01  1.3204e-01  1.5391e-01  1.9879e-01   \n",
              "\n",
              "               s3          s4          s5          s6  YearProgressionFromBase  \n",
              "count  4.4200e+02  4.4200e+02  4.4200e+02  4.4200e+02                 442.0000  \n",
              "mean  -4.5746e-16  3.7773e-16 -3.8309e-16 -3.4129e-16                 152.1335  \n",
              "std    4.7619e-02  4.7619e-02  4.7619e-02  4.7619e-02                  77.0930  \n",
              "min   -1.0231e-01 -7.6395e-02 -1.2610e-01 -1.3777e-01                  25.0000  \n",
              "25%   -3.5117e-02 -3.9493e-02 -3.3249e-02 -3.3179e-02                  87.0000  \n",
              "50%   -6.5845e-03 -2.5923e-03 -1.9476e-03 -1.0777e-03                 140.5000  \n",
              "75%    2.9312e-02  3.4309e-02  3.2433e-02  2.7917e-02                 211.5000  \n",
              "max    1.8118e-01  1.8523e-01  1.3360e-01  1.3561e-01                 346.0000  "
            ],
            "text/html": [
              "\n",
              "  <div id=\"df-8be89bde-d90e-4f70-b6eb-0e6bdc8253f6\">\n",
              "    <div class=\"colab-df-container\">\n",
              "      <div>\n",
              "<style scoped>\n",
              "    .dataframe tbody tr th:only-of-type {\n",
              "        vertical-align: middle;\n",
              "    }\n",
              "\n",
              "    .dataframe tbody tr th {\n",
              "        vertical-align: top;\n",
              "    }\n",
              "\n",
              "    .dataframe thead th {\n",
              "        text-align: right;\n",
              "    }\n",
              "</style>\n",
              "<table border=\"1\" class=\"dataframe\">\n",
              "  <thead>\n",
              "    <tr style=\"text-align: right;\">\n",
              "      <th></th>\n",
              "      <th>age</th>\n",
              "      <th>sex</th>\n",
              "      <th>bmi</th>\n",
              "      <th>bp</th>\n",
              "      <th>s1</th>\n",
              "      <th>s2</th>\n",
              "      <th>s3</th>\n",
              "      <th>s4</th>\n",
              "      <th>s5</th>\n",
              "      <th>s6</th>\n",
              "      <th>YearProgressionFromBase</th>\n",
              "    </tr>\n",
              "  </thead>\n",
              "  <tbody>\n",
              "    <tr>\n",
              "      <th>count</th>\n",
              "      <td>4.4200e+02</td>\n",
              "      <td>4.4200e+02</td>\n",
              "      <td>4.4200e+02</td>\n",
              "      <td>4.4200e+02</td>\n",
              "      <td>4.4200e+02</td>\n",
              "      <td>4.4200e+02</td>\n",
              "      <td>4.4200e+02</td>\n",
              "      <td>4.4200e+02</td>\n",
              "      <td>4.4200e+02</td>\n",
              "      <td>4.4200e+02</td>\n",
              "      <td>442.0000</td>\n",
              "    </tr>\n",
              "    <tr>\n",
              "      <th>mean</th>\n",
              "      <td>-3.6343e-16</td>\n",
              "      <td>1.3083e-16</td>\n",
              "      <td>-8.0453e-16</td>\n",
              "      <td>1.2817e-16</td>\n",
              "      <td>-8.8353e-17</td>\n",
              "      <td>1.3270e-16</td>\n",
              "      <td>-4.5746e-16</td>\n",
              "      <td>3.7773e-16</td>\n",
              "      <td>-3.8309e-16</td>\n",
              "      <td>-3.4129e-16</td>\n",
              "      <td>152.1335</td>\n",
              "    </tr>\n",
              "    <tr>\n",
              "      <th>std</th>\n",
              "      <td>4.7619e-02</td>\n",
              "      <td>4.7619e-02</td>\n",
              "      <td>4.7619e-02</td>\n",
              "      <td>4.7619e-02</td>\n",
              "      <td>4.7619e-02</td>\n",
              "      <td>4.7619e-02</td>\n",
              "      <td>4.7619e-02</td>\n",
              "      <td>4.7619e-02</td>\n",
              "      <td>4.7619e-02</td>\n",
              "      <td>4.7619e-02</td>\n",
              "      <td>77.0930</td>\n",
              "    </tr>\n",
              "    <tr>\n",
              "      <th>min</th>\n",
              "      <td>-1.0723e-01</td>\n",
              "      <td>-4.4642e-02</td>\n",
              "      <td>-9.0275e-02</td>\n",
              "      <td>-1.1240e-01</td>\n",
              "      <td>-1.2678e-01</td>\n",
              "      <td>-1.1561e-01</td>\n",
              "      <td>-1.0231e-01</td>\n",
              "      <td>-7.6395e-02</td>\n",
              "      <td>-1.2610e-01</td>\n",
              "      <td>-1.3777e-01</td>\n",
              "      <td>25.0000</td>\n",
              "    </tr>\n",
              "    <tr>\n",
              "      <th>25%</th>\n",
              "      <td>-3.7299e-02</td>\n",
              "      <td>-4.4642e-02</td>\n",
              "      <td>-3.4229e-02</td>\n",
              "      <td>-3.6656e-02</td>\n",
              "      <td>-3.4248e-02</td>\n",
              "      <td>-3.0358e-02</td>\n",
              "      <td>-3.5117e-02</td>\n",
              "      <td>-3.9493e-02</td>\n",
              "      <td>-3.3249e-02</td>\n",
              "      <td>-3.3179e-02</td>\n",
              "      <td>87.0000</td>\n",
              "    </tr>\n",
              "    <tr>\n",
              "      <th>50%</th>\n",
              "      <td>5.3831e-03</td>\n",
              "      <td>-4.4642e-02</td>\n",
              "      <td>-7.2838e-03</td>\n",
              "      <td>-5.6706e-03</td>\n",
              "      <td>-4.3209e-03</td>\n",
              "      <td>-3.8191e-03</td>\n",
              "      <td>-6.5845e-03</td>\n",
              "      <td>-2.5923e-03</td>\n",
              "      <td>-1.9476e-03</td>\n",
              "      <td>-1.0777e-03</td>\n",
              "      <td>140.5000</td>\n",
              "    </tr>\n",
              "    <tr>\n",
              "      <th>75%</th>\n",
              "      <td>3.8076e-02</td>\n",
              "      <td>5.0680e-02</td>\n",
              "      <td>3.1248e-02</td>\n",
              "      <td>3.5644e-02</td>\n",
              "      <td>2.8358e-02</td>\n",
              "      <td>2.9844e-02</td>\n",
              "      <td>2.9312e-02</td>\n",
              "      <td>3.4309e-02</td>\n",
              "      <td>3.2433e-02</td>\n",
              "      <td>2.7917e-02</td>\n",
              "      <td>211.5000</td>\n",
              "    </tr>\n",
              "    <tr>\n",
              "      <th>max</th>\n",
              "      <td>1.1073e-01</td>\n",
              "      <td>5.0680e-02</td>\n",
              "      <td>1.7056e-01</td>\n",
              "      <td>1.3204e-01</td>\n",
              "      <td>1.5391e-01</td>\n",
              "      <td>1.9879e-01</td>\n",
              "      <td>1.8118e-01</td>\n",
              "      <td>1.8523e-01</td>\n",
              "      <td>1.3360e-01</td>\n",
              "      <td>1.3561e-01</td>\n",
              "      <td>346.0000</td>\n",
              "    </tr>\n",
              "  </tbody>\n",
              "</table>\n",
              "</div>\n",
              "      <button class=\"colab-df-convert\" onclick=\"convertToInteractive('df-8be89bde-d90e-4f70-b6eb-0e6bdc8253f6')\"\n",
              "              title=\"Convert this dataframe to an interactive table.\"\n",
              "              style=\"display:none;\">\n",
              "        \n",
              "  <svg xmlns=\"http://www.w3.org/2000/svg\" height=\"24px\"viewBox=\"0 0 24 24\"\n",
              "       width=\"24px\">\n",
              "    <path d=\"M0 0h24v24H0V0z\" fill=\"none\"/>\n",
              "    <path d=\"M18.56 5.44l.94 2.06.94-2.06 2.06-.94-2.06-.94-.94-2.06-.94 2.06-2.06.94zm-11 1L8.5 8.5l.94-2.06 2.06-.94-2.06-.94L8.5 2.5l-.94 2.06-2.06.94zm10 10l.94 2.06.94-2.06 2.06-.94-2.06-.94-.94-2.06-.94 2.06-2.06.94z\"/><path d=\"M17.41 7.96l-1.37-1.37c-.4-.4-.92-.59-1.43-.59-.52 0-1.04.2-1.43.59L10.3 9.45l-7.72 7.72c-.78.78-.78 2.05 0 2.83L4 21.41c.39.39.9.59 1.41.59.51 0 1.02-.2 1.41-.59l7.78-7.78 2.81-2.81c.8-.78.8-2.07 0-2.86zM5.41 20L4 18.59l7.72-7.72 1.47 1.35L5.41 20z\"/>\n",
              "  </svg>\n",
              "      </button>\n",
              "      \n",
              "  <style>\n",
              "    .colab-df-container {\n",
              "      display:flex;\n",
              "      flex-wrap:wrap;\n",
              "      gap: 12px;\n",
              "    }\n",
              "\n",
              "    .colab-df-convert {\n",
              "      background-color: #E8F0FE;\n",
              "      border: none;\n",
              "      border-radius: 50%;\n",
              "      cursor: pointer;\n",
              "      display: none;\n",
              "      fill: #1967D2;\n",
              "      height: 32px;\n",
              "      padding: 0 0 0 0;\n",
              "      width: 32px;\n",
              "    }\n",
              "\n",
              "    .colab-df-convert:hover {\n",
              "      background-color: #E2EBFA;\n",
              "      box-shadow: 0px 1px 2px rgba(60, 64, 67, 0.3), 0px 1px 3px 1px rgba(60, 64, 67, 0.15);\n",
              "      fill: #174EA6;\n",
              "    }\n",
              "\n",
              "    [theme=dark] .colab-df-convert {\n",
              "      background-color: #3B4455;\n",
              "      fill: #D2E3FC;\n",
              "    }\n",
              "\n",
              "    [theme=dark] .colab-df-convert:hover {\n",
              "      background-color: #434B5C;\n",
              "      box-shadow: 0px 1px 3px 1px rgba(0, 0, 0, 0.15);\n",
              "      filter: drop-shadow(0px 1px 2px rgba(0, 0, 0, 0.3));\n",
              "      fill: #FFFFFF;\n",
              "    }\n",
              "  </style>\n",
              "\n",
              "      <script>\n",
              "        const buttonEl =\n",
              "          document.querySelector('#df-8be89bde-d90e-4f70-b6eb-0e6bdc8253f6 button.colab-df-convert');\n",
              "        buttonEl.style.display =\n",
              "          google.colab.kernel.accessAllowed ? 'block' : 'none';\n",
              "\n",
              "        async function convertToInteractive(key) {\n",
              "          const element = document.querySelector('#df-8be89bde-d90e-4f70-b6eb-0e6bdc8253f6');\n",
              "          const dataTable =\n",
              "            await google.colab.kernel.invokeFunction('convertToInteractive',\n",
              "                                                     [key], {});\n",
              "          if (!dataTable) return;\n",
              "\n",
              "          const docLinkHtml = 'Like what you see? Visit the ' +\n",
              "            '<a target=\"_blank\" href=https://colab.research.google.com/notebooks/data_table.ipynb>data table notebook</a>'\n",
              "            + ' to learn more about interactive tables.';\n",
              "          element.innerHTML = '';\n",
              "          dataTable['output_type'] = 'display_data';\n",
              "          await google.colab.output.renderOutput(dataTable, element);\n",
              "          const docLink = document.createElement('div');\n",
              "          docLink.innerHTML = docLinkHtml;\n",
              "          element.appendChild(docLink);\n",
              "        }\n",
              "      </script>\n",
              "    </div>\n",
              "  </div>\n",
              "  "
            ]
          },
          "metadata": {},
          "execution_count": 16
        }
      ]
    },
    {
      "cell_type": "markdown",
      "source": [
        "Visualizing Features"
      ],
      "metadata": {
        "id": "GL2F3SCAmS0h"
      }
    },
    {
      "cell_type": "code",
      "source": [
        "sample_df = diabetes_df.sample(frac=0.1, random_state=17)"
      ],
      "metadata": {
        "id": "xN3qbAJWmCGS"
      },
      "execution_count": 17,
      "outputs": []
    },
    {
      "cell_type": "code",
      "source": [
        "import matplotlib.pyplot as plt"
      ],
      "metadata": {
        "id": "bMevSTgamP0S"
      },
      "execution_count": 18,
      "outputs": []
    },
    {
      "cell_type": "code",
      "source": [
        "import seaborn as sns"
      ],
      "metadata": {
        "id": "5vUMCaDqmaYK"
      },
      "execution_count": 20,
      "outputs": []
    },
    {
      "cell_type": "code",
      "source": [
        "sns.set_style('whitegrid')"
      ],
      "metadata": {
        "id": "GSrADKICmd8S"
      },
      "execution_count": 21,
      "outputs": []
    },
    {
      "cell_type": "code",
      "source": [
        "for feature in diabetes.feature_names:\n",
        "    plt.figure(figsize=(8, 4.5))  #8\" by 4.5\" Figure\n",
        "    sns.scatterplot(data=sample_df, x=feature,\n",
        "                    y='YearProgressionFromBase', hue='YearProgressionFromBase',\n",
        "                    palette = 'cool', legend=False)"
      ],
      "metadata": {
        "colab": {
          "base_uri": "https://localhost:8080/",
          "height": 1000
        },
        "id": "ltgdgxUQmhLy",
        "outputId": "8b9f7a6a-f91c-4289-b1eb-9e16f80e2748"
      },
      "execution_count": 22,
      "outputs": [
        {
          "output_type": "display_data",
          "data": {
            "text/plain": [
              "<Figure size 576x324 with 1 Axes>"
            ],
            "image/png": "[encoded data removed]"
          },
          "metadata": {}
        },
        {
          "output_type": "display_data",
          "data": {
            "text/plain": [
              "<Figure size 576x324 with 1 Axes>"
            ],
            "image/png": "[encoded data removed]"
          },
          "metadata": {}
        },
        {
          "output_type": "display_data",
          "data": {
            "text/plain": [
              "<Figure size 576x324 with 1 Axes>"
            ],
            "image/png": "[encoded data removed]"
          },
          "metadata": {}
        },
        {
          "output_type": "display_data",
          "data": {
            "text/plain": [
              "<Figure size 576x324 with 1 Axes>"
            ],
            "image/png": "[encoded data removed]"
          },
          "metadata": {}
        },
        {
          "output_type": "display_data",
          "data": {
            "text/plain": [
              "<Figure size 576x324 with 1 Axes>"
            ],
            "image/png": "[encoded data removed]"
          },
          "metadata": {}
        },
        {
          "output_type": "display_data",
          "data": {
            "text/plain": [
              "<Figure size 576x324 with 1 Axes>"
            ],
            "image/png": "[encoded data removed]"
          },
          "metadata": {}
        },
        {
          "output_type": "display_data",
          "data": {
            "text/plain": [
              "<Figure size 576x324 with 1 Axes>"
            ],
            "image/png": "[encoded data removed]"
          },
          "metadata": {}
        },
        {
          "output_type": "display_data",
          "data": {
            "text/plain": [
              "<Figure size 576x324 with 1 Axes>"
            ],
            "image/png": "[encoded data removed]"
          },
          "metadata": {}
        },
        {
          "output_type": "display_data",
          "data": {
            "text/plain": [
              "<Figure size 576x324 with 1 Axes>"
            ],
            "image/png": "[encoded data removed]"
          },
          "metadata": {}
        },
        {
          "output_type": "display_data",
          "data": {
            "text/plain": [
              "<Figure size 576x324 with 1 Axes>"
            ],
            "image/png": "[encoded data removed]"
          },
          "metadata": {}
        }
      ]
    },
    {
      "cell_type": "markdown",
      "source": [
        "Splitting the Data for Training and Testing Using train_test_split"
      ],
      "metadata": {
        "id": "v14FOdHknCYl"
      }
    },
    {
      "cell_type": "code",
      "source": [
        "from sklearn.model_selection import train_test_split"
      ],
      "metadata": {
        "id": "l7mIKHtynHxL"
      },
      "execution_count": 23,
      "outputs": []
    },
    {
      "cell_type": "code",
      "source": [
        "X_train, X_test, y_train, y_test = train_test_split(diabetes.data,diabetes.target,random_state=11)"
      ],
      "metadata": {
        "id": "d0_VePp9nKY3"
      },
      "execution_count": 24,
      "outputs": []
    },
    {
      "cell_type": "code",
      "source": [
        "X_train.shape"
      ],
      "metadata": {
        "colab": {
          "base_uri": "https://localhost:8080/"
        },
        "id": "Znf4NaBFnVfK",
        "outputId": "8b9476ea-a08e-46d3-e0a5-55ab24a53d3b"
      },
      "execution_count": 25,
      "outputs": [
        {
          "output_type": "execute_result",
          "data": {
            "text/plain": [
              "(331, 10)"
            ]
          },
          "metadata": {},
          "execution_count": 25
        }
      ]
    },
    {
      "cell_type": "code",
      "source": [
        "X_test.shape"
      ],
      "metadata": {
        "colab": {
          "base_uri": "https://localhost:8080/"
        },
        "id": "JstPMKuenYfJ",
        "outputId": "f234e598-60a3-4ae5-86be-01fdc75778ca"
      },
      "execution_count": 27,
      "outputs": [
        {
          "output_type": "execute_result",
          "data": {
            "text/plain": [
              "(111, 10)"
            ]
          },
          "metadata": {},
          "execution_count": 27
        }
      ]
    },
    {
      "cell_type": "markdown",
      "source": [
        "### Training the Model"
      ],
      "metadata": {
        "id": "y9P2fn3pneD3"
      }
    },
    {
      "cell_type": "code",
      "source": [
        "from sklearn.linear_model import LinearRegression"
      ],
      "metadata": {
        "id": "wU-hxRhKnasB"
      },
      "execution_count": 28,
      "outputs": []
    },
    {
      "cell_type": "code",
      "source": [
        "linear_regression = LinearRegression()"
      ],
      "metadata": {
        "id": "wOTZaxyHniZS"
      },
      "execution_count": 29,
      "outputs": []
    },
    {
      "cell_type": "code",
      "source": [
        "linear_regression.fit(X=X_train, y=y_train)"
      ],
      "metadata": {
        "colab": {
          "base_uri": "https://localhost:8080/"
        },
        "id": "LMO4jvj0nlXC",
        "outputId": "ac8ae6c1-e186-4249-ca3d-79d5aa916b8e"
      },
      "execution_count": 30,
      "outputs": [
        {
          "output_type": "execute_result",
          "data": {
            "text/plain": [
              "LinearRegression()"
            ]
          },
          "metadata": {},
          "execution_count": 30
        }
      ]
    },
    {
      "cell_type": "code",
      "source": [
        "for i, name in enumerate(diabetes.feature_names):\n",
        "  print(f'{name:>10}: {linear_regression.coef_[i]}')"
      ],
      "metadata": {
        "colab": {
          "base_uri": "https://localhost:8080/"
        },
        "id": "MLwpqR1Rnnxx",
        "outputId": "4f04898c-8692-4afd-bfa8-c65d35b38145"
      },
      "execution_count": 31,
      "outputs": [
        {
          "output_type": "stream",
          "name": "stdout",
          "text": [
            "       age: -60.221893331882335\n",
            "       sex: -266.45890749037505\n",
            "       bmi: 523.0596748020042\n",
            "        bp: 310.51485159166873\n",
            "        s1: -336.17030792547865\n",
            "        s2: 137.344544538294\n",
            "        s3: -131.13560429688624\n",
            "        s4: -1.1485501589064313\n",
            "        s5: 622.3374924905781\n",
            "        s6: 60.46751763603552\n"
          ]
        }
      ]
    },
    {
      "cell_type": "code",
      "source": [
        "linear_regression.intercept_"
      ],
      "metadata": {
        "colab": {
          "base_uri": "https://localhost:8080/"
        },
        "id": "uw5JBDn4nt6x",
        "outputId": "e9e5d062-9814-41f8-9734-1d7f15995ec5"
      },
      "execution_count": 32,
      "outputs": [
        {
          "output_type": "execute_result",
          "data": {
            "text/plain": [
              "152.22835839334243"
            ]
          },
          "metadata": {},
          "execution_count": 32
        }
      ]
    },
    {
      "cell_type": "code",
      "source": [
        "predicted = linear_regression.predict(X_test)"
      ],
      "metadata": {
        "id": "M1XTpgr0nywZ"
      },
      "execution_count": 33,
      "outputs": []
    },
    {
      "cell_type": "code",
      "source": [
        "expected = y_test"
      ],
      "metadata": {
        "id": "gaXI7Ikmn06R"
      },
      "execution_count": 34,
      "outputs": []
    },
    {
      "cell_type": "code",
      "source": [
        "predicted[:5]  # first 5 predictions"
      ],
      "metadata": {
        "colab": {
          "base_uri": "https://localhost:8080/"
        },
        "id": "IBUfvmOXn3ey",
        "outputId": "e55f2a89-d3f1-47c2-cb20-bbb9e45a0bee"
      },
      "execution_count": 35,
      "outputs": [
        {
          "output_type": "execute_result",
          "data": {
            "text/plain": [
              "array([115.46727109,  83.46033257, 160.77912055, 187.65807631,\n",
              "        72.72355267])"
            ]
          },
          "metadata": {},
          "execution_count": 35
        }
      ]
    },
    {
      "cell_type": "code",
      "source": [
        "expected[:5]  # first 5 targets"
      ],
      "metadata": {
        "colab": {
          "base_uri": "https://localhost:8080/"
        },
        "id": "jhpN2VIln5uS",
        "outputId": "a54ddcd0-000c-4fc7-c85a-2bcbb4ee9bc3"
      },
      "execution_count": 36,
      "outputs": [
        {
          "output_type": "execute_result",
          "data": {
            "text/plain": [
              "array([ 79.,  55., 109., 178.,  39.])"
            ]
          },
          "metadata": {},
          "execution_count": 36
        }
      ]
    },
    {
      "cell_type": "markdown",
      "source": [
        "### Visualizing the Expected vs. Predicted Progression`"
      ],
      "metadata": {
        "id": "uTHFT0ECoAsb"
      }
    },
    {
      "cell_type": "code",
      "source": [
        "df = pd.DataFrame()"
      ],
      "metadata": {
        "id": "ppE42sBBn8sJ"
      },
      "execution_count": 37,
      "outputs": []
    },
    {
      "cell_type": "code",
      "source": [
        "df['Expected'] = pd.Series(expected)"
      ],
      "metadata": {
        "id": "_a0gQ1b5ofcq"
      },
      "execution_count": 38,
      "outputs": []
    },
    {
      "cell_type": "code",
      "source": [
        "df['Predicted'] = pd.Series(predicted)"
      ],
      "metadata": {
        "id": "USyu55DqpBQz"
      },
      "execution_count": 40,
      "outputs": []
    },
    {
      "cell_type": "code",
      "source": [
        "figure = plt.figure(figsize=(9, 9))\n",
        "axes = sns.scatterplot(data=df, x='Expected', y='Predicted',\n",
        "      hue='Predicted', palette ='cool', legend=False)\n",
        "start = min(expected.min(), predicted.min())\n",
        "end = max(expected.max(), predicted.max())\n",
        "axes.set_xlim(start,end)\n",
        "axes.set_ylim(start,end)\n",
        "line = plt.plot([start,end],[start,end], 'k--')"
      ],
      "metadata": {
        "colab": {
          "base_uri": "https://localhost:8080/",
          "height": 551
        },
        "id": "4cxGrj5ho4J6",
        "outputId": "18d8dec6-cde4-4189-9d10-62c03c953430"
      },
      "execution_count": 41,
      "outputs": [
        {
          "output_type": "display_data",
          "data": {
            "text/plain": [
              "<Figure size 648x648 with 1 Axes>"
            ],
            "image/png": "[encoded data removed]"
          },
          "metadata": {}
        }
      ]
    },
    {
      "cell_type": "markdown",
      "source": [
        "Regression Model Metrics"
      ],
      "metadata": {
        "id": "I3wlwvdQpKK2"
      }
    },
    {
      "cell_type": "code",
      "source": [
        "from sklearn import metrics"
      ],
      "metadata": {
        "id": "Nx6UtCBLpNYC"
      },
      "execution_count": 43,
      "outputs": []
    },
    {
      "cell_type": "code",
      "source": [
        "metrics.r2_score(expected, predicted)"
      ],
      "metadata": {
        "colab": {
          "base_uri": "https://localhost:8080/"
        },
        "id": "XfRBquDKpSHa",
        "outputId": "7a8c9c0c-3df1-4513-ba48-9e99ca7d327a"
      },
      "execution_count": 44,
      "outputs": [
        {
          "output_type": "execute_result",
          "data": {
            "text/plain": [
              "0.5322440129151977"
            ]
          },
          "metadata": {},
          "execution_count": 44
        }
      ]
    },
    {
      "cell_type": "markdown",
      "source": [
        "Choosing the Best Model"
      ],
      "metadata": {
        "id": "rOnRuLlUpVGe"
      }
    },
    {
      "cell_type": "code",
      "source": [
        "from sklearn.linear_model import ElasticNet, Lasso, Ridge"
      ],
      "metadata": {
        "id": "9qTx8RB_pT9J"
      },
      "execution_count": 45,
      "outputs": []
    },
    {
      "cell_type": "code",
      "source": [
        "estimators = {\n",
        "    'LinearRegression' : linear_regression,\n",
        "    'ElasticNet' : ElasticNet(),\n",
        "    'Lasso' : Lasso(),\n",
        "    'Ridge' : Ridge()\n",
        "    }"
      ],
      "metadata": {
        "id": "ULbaQ9wepbxZ"
      },
      "execution_count": 46,
      "outputs": []
    },
    {
      "cell_type": "code",
      "source": [
        "from sklearn.model_selection import KFold, cross_val_score"
      ],
      "metadata": {
        "id": "ABSrnQWzpgCn"
      },
      "execution_count": 47,
      "outputs": []
    },
    {
      "cell_type": "code",
      "source": [
        "for estimator_name, estimator_object in estimators.items():\n",
        "  kfold = KFold(n_splits=10, random_state=11, shuffle=True)\n",
        "  scores = cross_val_score(estimator=estimator_object,\n",
        "                           X=diabetes.data, y=diabetes.target, cv=kfold,\n",
        "                           scoring='r2')\n",
        "  print(f'{estimator_name:>16}: ' +\n",
        "        f'mean of r2 scores={scores.mean():.3f}')"
      ],
      "metadata": {
        "colab": {
          "base_uri": "https://localhost:8080/"
        },
        "id": "yH3RGdlwphXm",
        "outputId": "cc7df356-591a-4482-d188-fc88c9602df1"
      },
      "execution_count": 49,
      "outputs": [
        {
          "output_type": "stream",
          "name": "stdout",
          "text": [
            "LinearRegression: mean of r2 scores=0.475\n",
            "      ElasticNet: mean of r2 scores=-0.002\n",
            "           Lasso: mean of r2 scores=0.339\n",
            "           Ridge: mean of r2 scores=0.421\n"
          ]
        }
      ]
    },
    {
      "cell_type": "code",
      "source": [
        ""
      ],
      "metadata": {
        "id": "wnCscmibpvfi"
      },
      "execution_count": null,
      "outputs": []
    }
  ]
}